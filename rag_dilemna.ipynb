{
 "cells": [
  {
   "cell_type": "code",
   "execution_count": 2,
   "id": "3b1abad3-41c1-4720-b5c9-3837860d9eca",
   "metadata": {
    "tags": []
   },
   "outputs": [],
   "source": [
    "# here the goal will be to extract social dilemna from document or questionnaire\n",
    "# lifespan\n",
    "# age\n",
    "# health"
   ]
  },
  {
   "cell_type": "code",
   "execution_count": null,
   "id": "d5611f0f-2dbf-4f15-be92-e5057763c893",
   "metadata": {},
   "outputs": [],
   "source": []
  },
  {
   "cell_type": "code",
   "execution_count": null,
   "id": "444a297d-5832-4562-aec0-bd44c725dc3a",
   "metadata": {},
   "outputs": [],
   "source": []
  },
  {
   "cell_type": "code",
   "execution_count": null,
   "id": "ef81bf0b-1ef7-4610-988b-2ff19b96ee62",
   "metadata": {},
   "outputs": [],
   "source": [
    "# check clinical cases\n",
    "\n",
    "\n",
    "# get clinical case from files\n",
    "    \n",
    "# clinical case should\n",
    "    # you should be able\n",
    "        # be specific to moral dilemna\n",
    "        # to compute game theory problem\n",
    "        # to ask questions to define the payoff of the decision\n",
    "        # multiple actor should be between multiple medical professionnal\n",
    "    # you should be able \n",
    "# import file on clinical case\n"
   ]
  },
  {
   "cell_type": "code",
   "execution_count": null,
   "id": "17abb38c-3dde-4568-a275-322ca3d9da78",
   "metadata": {},
   "outputs": [],
   "source": []
  }
 ],
 "metadata": {
  "kernelspec": {
   "display_name": "Python 3 (ipykernel)",
   "language": "python",
   "name": "python3"
  },
  "language_info": {
   "codemirror_mode": {
    "name": "ipython",
    "version": 3
   },
   "file_extension": ".py",
   "mimetype": "text/x-python",
   "name": "python",
   "nbconvert_exporter": "python",
   "pygments_lexer": "ipython3",
   "version": "3.9.5"
  }
 },
 "nbformat": 4,
 "nbformat_minor": 5
}
