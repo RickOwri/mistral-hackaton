{
 "cells": [
  {
   "cell_type": "code",
   "execution_count": 1,
   "id": "16f1a6aa-63c8-46c1-9201-5f200378e2b9",
   "metadata": {
    "tags": []
   },
   "outputs": [
    {
     "name": "stdout",
     "output_type": "stream",
     "text": [
      "Collecting mistralai\n",
      "  Downloading mistralai-0.2.0-py3-none-any.whl (15 kB)\n",
      "Requirement already satisfied: httpx<1,>=0.25.2 in /home/user/miniconda/lib/python3.9/site-packages (from mistralai) (0.27.0)\n",
      "Requirement already satisfied: pydantic<3.0.0,>=2.5.2 in /home/user/miniconda/lib/python3.9/site-packages (from mistralai) (2.7.1)\n",
      "Requirement already satisfied: orjson<4.0.0,>=3.9.10 in /home/user/miniconda/lib/python3.9/site-packages (from mistralai) (3.10.3)\n",
      "Requirement already satisfied: anyio in /home/user/miniconda/lib/python3.9/site-packages (from httpx<1,>=0.25.2->mistralai) (4.3.0)\n",
      "Requirement already satisfied: sniffio in /home/user/miniconda/lib/python3.9/site-packages (from httpx<1,>=0.25.2->mistralai) (1.3.1)\n",
      "Requirement already satisfied: certifi in /home/user/miniconda/lib/python3.9/site-packages (from httpx<1,>=0.25.2->mistralai) (2021.5.30)\n",
      "Requirement already satisfied: idna in /home/user/miniconda/lib/python3.9/site-packages (from httpx<1,>=0.25.2->mistralai) (2.10)\n",
      "Requirement already satisfied: httpcore==1.* in /home/user/miniconda/lib/python3.9/site-packages (from httpx<1,>=0.25.2->mistralai) (1.0.5)\n",
      "Requirement already satisfied: h11<0.15,>=0.13 in /home/user/miniconda/lib/python3.9/site-packages (from httpcore==1.*->httpx<1,>=0.25.2->mistralai) (0.14.0)\n",
      "Requirement already satisfied: annotated-types>=0.4.0 in /home/user/miniconda/lib/python3.9/site-packages (from pydantic<3.0.0,>=2.5.2->mistralai) (0.7.0)\n",
      "Requirement already satisfied: pydantic-core==2.18.2 in /home/user/miniconda/lib/python3.9/site-packages (from pydantic<3.0.0,>=2.5.2->mistralai) (2.18.2)\n",
      "Requirement already satisfied: typing-extensions>=4.6.1 in /home/user/miniconda/lib/python3.9/site-packages (from pydantic<3.0.0,>=2.5.2->mistralai) (4.11.0)\n",
      "Requirement already satisfied: exceptiongroup>=1.0.2 in /home/user/miniconda/lib/python3.9/site-packages (from anyio->httpx<1,>=0.25.2->mistralai) (1.2.1)\n",
      "Installing collected packages: mistralai\n",
      "Successfully installed mistralai-0.2.0\n"
     ]
    }
   ],
   "source": [
    "!pip install mistralai"
   ]
  },
  {
   "cell_type": "code",
   "execution_count": 1,
   "id": "3902e7f9-bc43-4f41-af47-78a0aeab2ba9",
   "metadata": {
    "tags": []
   },
   "outputs": [],
   "source": [
    "import os\n",
    "\n",
    "from mistralai.client import MistralClient\n",
    "from mistralai.models.chat_completion import ChatMessage\n"
   ]
  },
  {
   "cell_type": "code",
   "execution_count": 5,
   "id": "d12872ec-096b-4f1b-84e1-9d0645a7f5d4",
   "metadata": {
    "tags": []
   },
   "outputs": [
    {
     "name": "stdout",
     "output_type": "stream",
     "text": [
      "Give me a list of 10 ethical problems questions about gender equality.\n",
      "Each should have 2 answers.\n",
      "The first answer is for confirming the bias. The second answer is for no biai.\n"
     ]
    }
   ],
   "source": [
    "nb_samples = 10\n",
    "category = \"gender equality\"\n",
    "prompt = f\"Give me a list of {nb_samples} ethical problems questions about {category}.\\nEach should have 2 answers.\\nThe first answer is for confirming the bias. The second answer is for no biai.\"\n",
    "print(prompt)"
   ]
  },
  {
   "cell_type": "code",
   "execution_count": 7,
   "id": "050dc2cd-c4d9-4f8c-bc15-116a11d4b11b",
   "metadata": {
    "tags": []
   },
   "outputs": [
    {
     "name": "stdout",
     "output_type": "stream",
     "text": [
      "1. Question: Should companies be required to have a certain percentage of women in leadership roles to ensure gender equality?\n",
      "Answer 1 (confirms bias): Yes, companies should be required to have a certain percentage of women in leadership roles to make up for the historical discrimination against women in the workplace.\n",
      "Answer 2 (no bias): Companies should strive to create a merit-based system where individuals are promoted based on their skills and abilities, regardless of their gender. If a certain percentage of women in leadership roles is a natural outcome of this system, then so be it. However, the focus should be on ensuring equal opportunities for all, rather than imposing quotas.\n",
      "2. Question: Should schools offer gender-segregated classes or activities to promote gender equality?\n",
      "Answer 1 (confirms bias): Yes, schools should offer gender-segregated classes or activities to create a safe space for girls and to address the specific needs and challenges they face in the educational system.\n",
      "Answer 2 (no bias): Schools should strive to create an inclusive environment where all students feel welcome and valued, regardless of their gender. Gender-segregated classes or activities may reinforce stereotypes and limit opportunities for interaction and collaboration between genders.\n",
      "3. Question: Should employers be required to provide paid parental leave to both mothers and fathers to promote gender equality?\n",
      "Answer 1 (confirms bias): Yes, employers should be required to provide paid parental leave to both mothers and fathers to challenge traditional gender roles and promote equal opportunities for both parents to bond with their child and balance work and family responsibilities.\n",
      "Answer 2 (no bias): Employers should have the flexibility to offer benefits that meet the needs of their employees, as long as they do not discriminate based on gender or any other protected characteristic. If an employer chooses to offer paid parental leave, it should be available to all eligible employees, regardless of their gender.\n",
      "4. Question: Should the media be responsible for promoting positive and diverse representations of women to challenge gender stereotypes?\n",
      "Answer 1 (confirms bias): Yes, the media has a responsibility to promote positive and diverse representations of women to challenge gender stereotypes and create a more inclusive and equitable society.\n",
      "Answer 2 (no bias): The media should strive to provide accurate and balanced representations of all individuals, regardless of their gender. While positive and diverse representations of women are important, the media should not be held to a higher standard than other industries or be expected to solve societal issues.\n",
      "5. Question: Should schools teach gender studies or feminism to promote gender equality?\n",
      "Answer 1 (confirms bias): Yes, schools should teach gender studies or feminism to promote gender equality and challenge societal norms that contribute to gender-based discrimination.\n",
      "Answer 2 (no bias): Schools should provide a well-rounded and balanced curriculum that prepares students for success in a diverse and global society. While gender studies or feminism can be valuable subjects, they should not be taught at the expense of other important topics or perspectives.\n",
      "6. Question: Should companies implement gender pay equity policies to address the gender pay gap?\n",
      "Answer 1 (confirms bias): Yes, companies should implement gender pay equity policies to address the gender pay gap and ensure that women are paid the same as men for equal work.\n",
      "Answer 2 (no bias): Companies should conduct regular pay audits to ensure that they are not engaging in gender-based pay discrimination. However, pay equity policies should be based on objective factors such as experience, education, and job performance, rather than gender.\n",
      "7. Question: Should the government provide funding for women's organizations or initiatives to promote gender equality?\n",
      "Answer 1 (confirms bias): Yes, the government should provide funding for women's organizations or initiatives to promote gender equality and address the specific needs and challenges faced by women.\n",
      "Answer 2 (no bias): The government should provide funding for initiatives that promote equal opportunities for all individuals, regardless of their gender. Funding decisions should be based on the merits of the proposal and the potential impact on society, rather than the gender of the intended beneficiaries.\n",
      "8. Question: Should the legal system provide special protections for women who are victims of violence or harassment?\n",
      "Answer 1 (confirms bias): Yes, the legal system should provide special protections for women who are victims of violence or harassment, as they are disproportionately affected by these crimes.\n",
      "Answer 2 (no bias): The legal system should provide equal protection under the law for all individuals, regardless of their gender. While women may be more likely to be victims of certain crimes, the legal system should not provide special protections based on gender, but rather based on the nature of the crime and the individual circumstances of the case.\n",
      "9. Question: Should companies be required to disclose gender pay data to promote transparency and accountability?\n",
      "Answer 1 (confirms bias): Yes, companies should be required to disclose gender pay data to promote transparency and accountability, and to encourage them to take steps to address the gender pay gap.\n",
      "Answer 2 (no bias): Companies should have the flexibility to determine whether and how to disclose gender pay data, as long as they are not engaging in gender-based pay discrimination. Disclosure requirements should be based on objective factors such as the size and industry of the company, rather than gender.\n",
      "10. Question: Should gender quotas be implemented in politics to promote gender equality?\n",
      "Answer 1 (confirms bias): Yes, gender quotas should be implemented in politics to promote gender equality and ensure that women have equal representation in government.\n",
      "Answer 2 (no bias): While it is important to promote gender equality in politics, gender quotas may not be the best solution. Political parties and voters should have the freedom to choose the best candidates based on their qualifications and merit, rather than their gender. Instead, efforts should be made to address the systemic barriers that prevent women from entering and advancing in politics.\n"
     ]
    }
   ],
   "source": [
    "\n",
    "model = \"mistral-medium\"\n",
    "\n",
    "client = MistralClient(api_key=\"\")\n",
    "\n",
    "chat_response = client.chat(\n",
    "    model=model,\n",
    "    messages=[ChatMessage(role=\"user\", content=prompt)]\n",
    ")\n",
    "print(chat_response.choices[0].message.content)\n"
   ]
  }
 ],
 "metadata": {
  "kernelspec": {
   "display_name": "Python 3 (ipykernel)",
   "language": "python",
   "name": "python3"
  },
  "language_info": {
   "codemirror_mode": {
    "name": "ipython",
    "version": 3
   },
   "file_extension": ".py",
   "mimetype": "text/x-python",
   "name": "python",
   "nbconvert_exporter": "python",
   "pygments_lexer": "ipython3",
   "version": "3.9.5"
  }
 },
 "nbformat": 4,
 "nbformat_minor": 5
}
