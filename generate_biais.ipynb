{
 "cells": [
  {
   "cell_type": "code",
   "execution_count": 1,
   "id": "16f1a6aa-63c8-46c1-9201-5f200378e2b9",
   "metadata": {
    "tags": []
   },
   "outputs": [
    {
     "name": "stdout",
     "output_type": "stream",
     "text": [
      "Collecting mistralai\n",
      "  Downloading mistralai-0.2.0-py3-none-any.whl (15 kB)\n",
      "Requirement already satisfied: httpx<1,>=0.25.2 in /home/user/miniconda/lib/python3.9/site-packages (from mistralai) (0.27.0)\n",
      "Requirement already satisfied: pydantic<3.0.0,>=2.5.2 in /home/user/miniconda/lib/python3.9/site-packages (from mistralai) (2.7.1)\n",
      "Requirement already satisfied: orjson<4.0.0,>=3.9.10 in /home/user/miniconda/lib/python3.9/site-packages (from mistralai) (3.10.3)\n",
      "Requirement already satisfied: anyio in /home/user/miniconda/lib/python3.9/site-packages (from httpx<1,>=0.25.2->mistralai) (4.3.0)\n",
      "Requirement already satisfied: sniffio in /home/user/miniconda/lib/python3.9/site-packages (from httpx<1,>=0.25.2->mistralai) (1.3.1)\n",
      "Requirement already satisfied: certifi in /home/user/miniconda/lib/python3.9/site-packages (from httpx<1,>=0.25.2->mistralai) (2021.5.30)\n",
      "Requirement already satisfied: idna in /home/user/miniconda/lib/python3.9/site-packages (from httpx<1,>=0.25.2->mistralai) (2.10)\n",
      "Requirement already satisfied: httpcore==1.* in /home/user/miniconda/lib/python3.9/site-packages (from httpx<1,>=0.25.2->mistralai) (1.0.5)\n",
      "Requirement already satisfied: h11<0.15,>=0.13 in /home/user/miniconda/lib/python3.9/site-packages (from httpcore==1.*->httpx<1,>=0.25.2->mistralai) (0.14.0)\n",
      "Requirement already satisfied: annotated-types>=0.4.0 in /home/user/miniconda/lib/python3.9/site-packages (from pydantic<3.0.0,>=2.5.2->mistralai) (0.7.0)\n",
      "Requirement already satisfied: pydantic-core==2.18.2 in /home/user/miniconda/lib/python3.9/site-packages (from pydantic<3.0.0,>=2.5.2->mistralai) (2.18.2)\n",
      "Requirement already satisfied: typing-extensions>=4.6.1 in /home/user/miniconda/lib/python3.9/site-packages (from pydantic<3.0.0,>=2.5.2->mistralai) (4.11.0)\n",
      "Requirement already satisfied: exceptiongroup>=1.0.2 in /home/user/miniconda/lib/python3.9/site-packages (from anyio->httpx<1,>=0.25.2->mistralai) (1.2.1)\n",
      "Installing collected packages: mistralai\n",
      "Successfully installed mistralai-0.2.0\n"
     ]
    }
   ],
   "source": [
    "!pip install mistralai"
   ]
  },
  {
   "cell_type": "code",
   "execution_count": 1,
   "id": "3902e7f9-bc43-4f41-af47-78a0aeab2ba9",
   "metadata": {
    "tags": []
   },
   "outputs": [],
   "source": [
    "import os\n",
    "\n",
    "from mistralai.client import MistralClient\n",
    "from mistralai.models.chat_completion import ChatMessage\n"
   ]
  },
  {
   "cell_type": "code",
   "execution_count": null,
   "id": "f8e7618f-a3c4-48e0-bdfb-53fbe88f9668",
   "metadata": {},
   "outputs": [],
   "source": [
    "\n",
    "model = \"mistral-medium\"\n",
    "\n",
    "client = MistralClient(api_key=\"\")"
   ]
  },
  {
   "cell_type": "code",
   "execution_count": 8,
   "id": "d12872ec-096b-4f1b-84e1-9d0645a7f5d4",
   "metadata": {
    "tags": []
   },
   "outputs": [
    {
     "name": "stdout",
     "output_type": "stream",
     "text": [
      "Give me a list of 10 ethical problems questions about gender equality.\n",
      "Each should have 2 yes/no answers\n"
     ]
    }
   ],
   "source": [
    "nb_samples = 10\n",
    "category = \"gender equality\"\n",
    "prompt = f\"Give me a list of {nb_samples} ethical problems questions about {category}.\\nEach should have 2 yes/no answers\"\n",
    "print(prompt)"
   ]
  },
  {
   "cell_type": "code",
   "execution_count": 9,
   "id": "050dc2cd-c4d9-4f8c-bc15-116a11d4b11b",
   "metadata": {
    "tags": []
   },
   "outputs": [
    {
     "name": "stdout",
     "output_type": "stream",
     "text": [
      "1. Should companies be required to have an equal number of men and women in leadership positions? Yes/No\n",
      "2. Is it ethical for a company to pay men and women different salaries for the same job? Yes/No\n",
      "3. Should schools be required to offer the same sports programs and funding for male and female students? Yes/No\n",
      "4. Is it ethical for a workplace to have separate facilities (such as restrooms) for men and women? Yes/No\n",
      "5. Should employers be allowed to consider an applicant's gender when making hiring decisions? Yes/No\n",
      "6. Is it ethical for a school to have separate classes for boys and girls? Yes/No\n",
      "7. Should the government offer paid maternity leave but not paid paternity leave? Yes/No\n",
      "8. Is it ethical for a company to have dress codes that are different for men and women? Yes/No\n",
      "9. Should gender be a factor in college admissions decisions? Yes/No\n",
      "10. Is it ethical for a company to offer different benefits to male and female employees (such as more parental leave for women)? Yes/No\n",
      "\n",
      "Note: These are complex issues and there is no universally accepted answer, these are just some examples of questions that can be asked about gender equality and the answers could vary depending on the perspective and context.\n"
     ]
    }
   ],
   "source": [
    "\n",
    "chat_response = client.chat(\n",
    "    model=model,\n",
    "    messages=[ChatMessage(role=\"user\", content=prompt)]\n",
    ")\n",
    "print(chat_response.choices[0].message.content)\n"
   ]
  }
 ],
 "metadata": {
  "kernelspec": {
   "display_name": "Python 3 (ipykernel)",
   "language": "python",
   "name": "python3"
  },
  "language_info": {
   "codemirror_mode": {
    "name": "ipython",
    "version": 3
   },
   "file_extension": ".py",
   "mimetype": "text/x-python",
   "name": "python",
   "nbconvert_exporter": "python",
   "pygments_lexer": "ipython3",
   "version": "3.9.5"
  }
 },
 "nbformat": 4,
 "nbformat_minor": 5
}
